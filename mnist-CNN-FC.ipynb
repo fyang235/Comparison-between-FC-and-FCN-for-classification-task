{
 "cells": [
  {
   "cell_type": "markdown",
   "metadata": {},
   "source": [
    "# This file use FC network for image classification"
   ]
  },
  {
   "cell_type": "markdown",
   "metadata": {},
   "source": [
    "### Some pre-settings"
   ]
  },
  {
   "cell_type": "code",
   "execution_count": 1,
   "metadata": {
    "collapsed": true
   },
   "outputs": [],
   "source": [
    "\"\"\"\n",
    "some pre-settings to ensure the functioning of my GPU flatiom\n",
    "remove if not needed\n",
    "\"\"\"\n",
    "from tensorflow.compat.v1 import ConfigProto\n",
    "from tensorflow.compat.v1 import InteractiveSession\n",
    "config = ConfigProto()\n",
    "config.gpu_options.allow_growth = True\n",
    "session = InteractiveSession(config=config)\n"
   ]
  },
  {
   "cell_type": "markdown",
   "metadata": {},
   "source": [
    "### Build a model which employ FC head, keep in mind the number of parameters which should be the same as our FCN network."
   ]
  },
  {
   "cell_type": "code",
   "execution_count": 3,
   "metadata": {},
   "outputs": [
    {
     "name": "stderr",
     "output_type": "stream",
     "text": [
      "Using TensorFlow backend.\n"
     ]
    }
   ],
   "source": [
    "# model\n",
    "import os\n",
    "os.environ[\"CUDA_VISIBLE_DEVICES\"] = \"0\"\n",
    "\n",
    "import keras\n",
    "from keras.models import Sequential\n",
    "from keras.layers import Dense, Conv2D, MaxPooling2D, Flatten, Dropout, Activation"
   ]
  },
  {
   "cell_type": "code",
   "execution_count": 4,
   "metadata": {},
   "outputs": [
    {
     "name": "stdout",
     "output_type": "stream",
     "text": [
      "WARNING:tensorflow:From /home/yang/.conda/envs/py3/lib/python3.6/site-packages/tensorflow/python/framework/op_def_library.py:263: colocate_with (from tensorflow.python.framework.ops) is deprecated and will be removed in a future version.\n",
      "Instructions for updating:\n",
      "Colocations handled automatically by placer.\n",
      "_________________________________________________________________\n",
      "Layer (type)                 Output Shape              Param #   \n",
      "=================================================================\n",
      "conv2d_1 (Conv2D)            (None, 26, 26, 32)        320       \n",
      "_________________________________________________________________\n",
      "max_pooling2d_1 (MaxPooling2 (None, 13, 13, 32)        0         \n",
      "_________________________________________________________________\n",
      "flatten_1 (Flatten)          (None, 5408)              0         \n",
      "_________________________________________________________________\n",
      "dense_1 (Dense)              (None, 10)                54090     \n",
      "=================================================================\n",
      "Total params: 54,410\n",
      "Trainable params: 54,410\n",
      "Non-trainable params: 0\n",
      "_________________________________________________________________\n"
     ]
    }
   ],
   "source": [
    "\"\"\"\n",
    "To make it straightfroward we only use one convlutional layer. multiple layers can be tested as well\n",
    "\"\"\"\n",
    "model = Sequential()\n",
    "model.add(Conv2D(32, (3, 3), activation='relu', input_shape=[28, 28, 1]))\n",
    "model.add(MaxPooling2D((2, 2)))\n",
    "# model.add(Conv2D(64, (3, 3), activation='relu'))\n",
    "# model.add(MaxPooling2D((2, 2)))\n",
    "# model.add(Conv2D(64, (3, 3), activation='relu'))\n",
    "# model.add(MaxPooling2D((2, 2)))\n",
    "\n",
    "model.add(Flatten())\n",
    "model.add(Dense(10, activation='softmax'))\n",
    "\n",
    "model.summary()"
   ]
  },
  {
   "cell_type": "markdown",
   "metadata": {},
   "source": [
    "### Data preprocessing "
   ]
  },
  {
   "cell_type": "code",
   "execution_count": 5,
   "metadata": {},
   "outputs": [
    {
     "name": "stdout",
     "output_type": "stream",
     "text": [
      "x_train.shape:  (60000, 28, 28)\n",
      "y_train.shape:  (60000,)\n",
      "x_test.shape:  (10000, 28, 28)\n",
      "y_test.shape:  (10000,)\n"
     ]
    }
   ],
   "source": [
    "\"\"\"\n",
    "view the shape of dataset\n",
    "\"\"\"\n",
    "from keras.datasets import mnist\n",
    "\n",
    "(x_train, y_train), (x_test, y_test) = mnist.load_data()\n",
    "print('x_train.shape: ', x_train.shape)\n",
    "print('y_train.shape: ', y_train.shape)\n",
    "print('x_test.shape: ', x_test.shape)\n",
    "print('y_test.shape: ', y_test.shape)"
   ]
  },
  {
   "cell_type": "code",
   "execution_count": 8,
   "metadata": {},
   "outputs": [
    {
     "data": {
      "text/plain": [
       "'\\nuncomment because we use a RTX2060 GPU for training.\\nIf the dataset is too large for your system, for example you use CPU to train, you can sample only part of the data.\\nAnd print the sample size\\n'"
      ]
     },
     "execution_count": 8,
     "metadata": {},
     "output_type": "execute_result"
    }
   ],
   "source": [
    "\"\"\"\n",
    "uncomment because we use a RTX2060 GPU for training.\n",
    "If the dataset is too large for your system, for example you use CPU to train, you can sample only part of the data.\n",
    "And print the sample size\n",
    "\"\"\"\n",
    "# x_train = x_train[:1000]\n",
    "# y_train = y_train[:1000]\n",
    "# x_test  = x_test[:100]\n",
    "# y_test  = y_test[:100]\n",
    "\n",
    "# print('After downsampling: ')\n",
    "# print('x_train.shape: ', x_train.shape)\n",
    "# print('y_train.shape: ', y_train.shape)\n",
    "# print('x_test.shape: ', x_test.shape)\n",
    "# print('y_test.shape: ', y_test.shape)"
   ]
  },
  {
   "cell_type": "code",
   "execution_count": 9,
   "metadata": {},
   "outputs": [
    {
     "data": {
      "image/png": "[encoded data removed]",
      "text/plain": [
       "<Figure size 432x288 with 1 Axes>"
      ]
     },
     "metadata": {},
     "output_type": "display_data"
    }
   ],
   "source": [
    "\"\"\"\n",
    "visualize the data\n",
    "\"\"\"\n",
    "import matplotlib.pyplot as plt\n",
    "import numpy as np\n",
    "\n",
    "image1 = np.concatenate((x_train[0], x_train[1], x_train[2]), axis=1)\n",
    "image2 = np.concatenate((x_train[3], x_train[4], x_train[5]), axis=1)\n",
    "image = np.concatenate((image1, image2), axis=0)\n",
    "plt.imshow(image, cmap='gray')\n",
    "plt.show()"
   ]
  },
  {
   "cell_type": "code",
   "execution_count": 10,
   "metadata": {},
   "outputs": [
    {
     "name": "stdout",
     "output_type": "stream",
     "text": [
      "check the maximum value in the image: 255\n",
      "check data type: <class 'numpy.uint8'>\n"
     ]
    }
   ],
   "source": [
    "\"\"\"\n",
    "pre-processing and show show the shape of data\n",
    "\"\"\"\n",
    "print('check the maximum value in the image:', np.max(x_train[0]))\n",
    "print('check data type:', type(x_train[0,0,0]))\n",
    "\n",
    "x_train = x_train.reshape((x_train.shape[0], 28, 28, 1))\n",
    "x_test  = x_test.reshape((x_test.shape[0], 28, 28, 1))\n",
    "\n",
    "x_train = x_train.astype('float32')\n",
    "x_test  = x_test.astype('float32')\n",
    "x_train /= 255\n",
    "x_test /= 255\n",
    "\n",
    "# print('check labels:', y_train[:10])\n",
    "y_train = keras.utils.to_categorical(y_train, 10)\n",
    "y_test  = keras.utils.to_categorical(y_test, 10)\n",
    "# print('check label shape:', y_train.shape)\n",
    "# print('check labels:', y_train[:10])"
   ]
  },
  {
   "cell_type": "code",
   "execution_count": 12,
   "metadata": {
    "collapsed": true
   },
   "outputs": [],
   "source": [
    "\"\"\"\n",
    "settings for training\n",
    "\"\"\"\n",
    "model.compile(optimizer=keras.optimizers.RMSprop(),\n",
    "              loss=keras.losses.categorical_crossentropy,\n",
    "              metrics=[keras.metrics.categorical_accuracy])\n",
    "\n",
    "call_back_list = [\n",
    "    keras.callbacks.EarlyStopping(monitor = 'categorical_accuracy',\n",
    "                                  patience = 1),\n",
    "    \n",
    "    keras.callbacks.ModelCheckpoint(filepath='mnist-fc.h5', \n",
    "                                    monitor='val_loss', \n",
    "                                    save_best_only=True)\n",
    "                 ]"
   ]
  },
  {
   "cell_type": "code",
   "execution_count": 13,
   "metadata": {},
   "outputs": [
    {
     "name": "stdout",
     "output_type": "stream",
     "text": [
      "WARNING:tensorflow:From /home/yang/.conda/envs/py3/lib/python3.6/site-packages/tensorflow/python/ops/math_ops.py:3066: to_int32 (from tensorflow.python.ops.math_ops) is deprecated and will be removed in a future version.\n",
      "Instructions for updating:\n",
      "Use tf.cast instead.\n",
      "Train on 60000 samples, validate on 10000 samples\n",
      "Epoch 1/500\n",
      "60000/60000 [==============================] - 12s 207us/step - loss: 0.2566 - categorical_accuracy: 0.9288 - val_loss: 0.1035 - val_categorical_accuracy: 0.9708\n",
      "Epoch 2/500\n",
      "60000/60000 [==============================] - 4s 61us/step - loss: 0.0932 - categorical_accuracy: 0.9733 - val_loss: 0.0727 - val_categorical_accuracy: 0.9774\n",
      "Epoch 3/500\n",
      "60000/60000 [==============================] - 4s 62us/step - loss: 0.0699 - categorical_accuracy: 0.9792 - val_loss: 0.0659 - val_categorical_accuracy: 0.9775\n",
      "Epoch 4/500\n",
      "60000/60000 [==============================] - 4s 61us/step - loss: 0.0592 - categorical_accuracy: 0.9830 - val_loss: 0.0673 - val_categorical_accuracy: 0.9773\n",
      "Epoch 5/500\n",
      "60000/60000 [==============================] - 4s 60us/step - loss: 0.0535 - categorical_accuracy: 0.9848 - val_loss: 0.0586 - val_categorical_accuracy: 0.9799\n",
      "Epoch 6/500\n",
      "60000/60000 [==============================] - 4s 60us/step - loss: 0.0486 - categorical_accuracy: 0.9865 - val_loss: 0.0543 - val_categorical_accuracy: 0.9820\n",
      "Epoch 7/500\n",
      "60000/60000 [==============================] - 4s 61us/step - loss: 0.0454 - categorical_accuracy: 0.9872 - val_loss: 0.0491 - val_categorical_accuracy: 0.9837\n",
      "Epoch 8/500\n",
      "60000/60000 [==============================] - 4s 61us/step - loss: 0.0420 - categorical_accuracy: 0.9884 - val_loss: 0.0478 - val_categorical_accuracy: 0.9847\n",
      "Epoch 9/500\n",
      "60000/60000 [==============================] - 4s 61us/step - loss: 0.0398 - categorical_accuracy: 0.9886 - val_loss: 0.0511 - val_categorical_accuracy: 0.9838\n",
      "Epoch 10/500\n",
      "60000/60000 [==============================] - 4s 60us/step - loss: 0.0377 - categorical_accuracy: 0.9893 - val_loss: 0.0502 - val_categorical_accuracy: 0.9846\n",
      "Epoch 11/500\n",
      "60000/60000 [==============================] - 4s 61us/step - loss: 0.0362 - categorical_accuracy: 0.9901 - val_loss: 0.0467 - val_categorical_accuracy: 0.9855\n",
      "Epoch 12/500\n",
      "60000/60000 [==============================] - 4s 62us/step - loss: 0.0345 - categorical_accuracy: 0.9907 - val_loss: 0.0473 - val_categorical_accuracy: 0.9855\n",
      "Epoch 13/500\n",
      "60000/60000 [==============================] - 4s 60us/step - loss: 0.0331 - categorical_accuracy: 0.9912 - val_loss: 0.0494 - val_categorical_accuracy: 0.9850\n",
      "Epoch 14/500\n",
      "60000/60000 [==============================] - 4s 61us/step - loss: 0.0320 - categorical_accuracy: 0.9912 - val_loss: 0.0478 - val_categorical_accuracy: 0.9855\n",
      "Epoch 15/500\n",
      "60000/60000 [==============================] - 4s 61us/step - loss: 0.0309 - categorical_accuracy: 0.9921 - val_loss: 0.0476 - val_categorical_accuracy: 0.9856\n",
      "Epoch 16/500\n",
      "60000/60000 [==============================] - 4s 61us/step - loss: 0.0297 - categorical_accuracy: 0.9920 - val_loss: 0.0546 - val_categorical_accuracy: 0.9845\n"
     ]
    }
   ],
   "source": [
    "\"\"\"\n",
    "train a CNN + FC model\n",
    "\"\"\"\n",
    "history = model.fit(x_train, y_train,\n",
    "          batch_size=64,\n",
    "          epochs=500,\n",
    "          validation_data=(x_test, y_test),\n",
    "          callbacks=call_back_list)"
   ]
  },
  {
   "cell_type": "code",
   "execution_count": 15,
   "metadata": {},
   "outputs": [
    {
     "data": {
      "image/png": "[encoded data removed]",
      "text/plain": [
       "<Figure size 432x288 with 1 Axes>"
      ]
     },
     "metadata": {},
     "output_type": "display_data"
    },
    {
     "data": {
      "image/png": "[encoded data removed]",
      "text/plain": [
       "<Figure size 432x288 with 1 Axes>"
      ]
     },
     "metadata": {},
     "output_type": "display_data"
    }
   ],
   "source": [
    "\"\"\"\n",
    "visualize the results\n",
    "\"\"\"\n",
    "acc = history.history['categorical_accuracy']\n",
    "val_acc = history.history['val_categorical_accuracy']\n",
    "loss = history.history['loss']\n",
    "val_loss = history.history['val_loss']\n",
    "\n",
    "epochs = range(1, len(acc) + 1)\n",
    "plt.plot(epochs, acc, 'bo', label='training accuracy')\n",
    "plt.plot(epochs, val_acc, 'b', label='validation accuracy')\n",
    "plt.title('CNN + FC accuracy')\n",
    "plt.legend()\n",
    "\n",
    "plt.figure()\n",
    "plt.plot(epochs, loss, 'bo', label='training loss')\n",
    "plt.plot(epochs, val_loss, 'b', label='validation loss')\n",
    "plt.title('CNN + FC loss')\n",
    "plt.legend()\n",
    "\n",
    "plt.show()"
   ]
  },
  {
   "cell_type": "code",
   "execution_count": null,
   "metadata": {
    "collapsed": true
   },
   "outputs": [],
   "source": []
  }
 ],
 "metadata": {
  "kernelspec": {
   "display_name": "Python 3",
   "language": "python",
   "name": "python3"
  },
  "language_info": {
   "codemirror_mode": {
    "name": "ipython",
    "version": 3
   },
   "file_extension": ".py",
   "mimetype": "text/x-python",
   "name": "python",
   "nbconvert_exporter": "python",
   "pygments_lexer": "ipython3",
   "version": "3.6.2"
  }
 },
 "nbformat": 4,
 "nbformat_minor": 2
}
